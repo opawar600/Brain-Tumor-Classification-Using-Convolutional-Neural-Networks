{
  "nbformat": 4,
  "nbformat_minor": 0,
  "metadata": {
    "colab": {
      "name": "BT_DataWrangling",
      "provenance": [],
      "collapsed_sections": [],
      "machine_shape": "hm"
    },
    "kernelspec": {
      "name": "python3",
      "display_name": "Python 3"
    }
  },
  "cells": [
    {
      "cell_type": "markdown",
      "metadata": {
        "id": "Q5yOBjucpIJc"
      },
      "source": [
        "### CS 512 Computer Vision\n",
        "### Final Project\n",
        "### Brain Tumor Classification using Convolutional Neural Network\n",
        "*Authors*\n",
        "- Kinjal Kachi (A20449343)\n",
        "- Omkar Pawar (A20448802)\n",
        "\n",
        "# Data Wrangling\n",
        "In this notebook, we perform some data preprocessing on the data of Brain Images that we extracted and make the data ready to train models. The data that we have is in matlab format. The main task is to bring the data in python lists and split the data into training and validation sets.\n",
        "\n",
        "In this notebook we also perform some exploratory data analysis to see the distribution of image labels and see how the brain images look.\n",
        "\n",
        "\n",
        "Imports"
      ]
    },
    {
      "cell_type": "code",
      "metadata": {
        "colab": {
          "base_uri": "https://localhost:8080/"
        },
        "id": "tvgizU86LWyT",
        "outputId": "16f1e70f-7dfe-489d-a489-fd5155a55f95"
      },
      "source": [
        "import os\n",
        "import numpy as np\n",
        "import matplotlib.pyplot as plt\n",
        "import h5py\n",
        "import cv2\n",
        "from google.colab import drive\n",
        "drive.mount('/content/drive')"
      ],
      "execution_count": null,
      "outputs": [
        {
          "output_type": "stream",
          "text": [
            "Mounted at /content/drive\n"
          ],
          "name": "stdout"
        }
      ]
    },
    {
      "cell_type": "markdown",
      "metadata": {
        "id": "mDBUrtn9rW8j"
      },
      "source": [
        "Load the data that we have extracted on the drive and append the images to a list. Make sure that along with the images, we have labels present with the data. We will seperate images and labels in the next step."
      ]
    },
    {
      "cell_type": "code",
      "metadata": {
        "colab": {
          "base_uri": "https://localhost:8080/"
        },
        "id": "WIt1ccuILcwc",
        "outputId": "0b4ac4d4-6a21-4290-ead1-a3401ea5527a"
      },
      "source": [
        "#Converting all the data into Python list\n",
        "from progressbar import ProgressBar\n",
        "pbar = ProgressBar()\n",
        "\n",
        "directory=\"/content/drive/My Drive/Colab Notebooks/dataset/dataset/imageData\"\n",
        "N=3064\n",
        "data_list=[]\n",
        "\n",
        "for i in pbar(range(1,N+1)):\n",
        "    filepath=str(i)+\".mat\"\n",
        "    data=h5py.File(os.path.join(directory,filepath),\"r\")\n",
        "    data_list.append(data)"
      ],
      "execution_count": null,
      "outputs": [
        {
          "output_type": "stream",
          "text": [
            "100% (3064 of 3064) |####################| Elapsed Time: 0:15:18 Time:  0:15:18\n"
          ],
          "name": "stderr"
        }
      ]
    },
    {
      "cell_type": "code",
      "metadata": {
        "colab": {
          "base_uri": "https://localhost:8080/"
        },
        "id": "3mkpPh4fS8pa",
        "outputId": "bbfe6a30-9e1f-4fd4-942d-fed0185d5728"
      },
      "source": [
        "len(data_list)"
      ],
      "execution_count": null,
      "outputs": [
        {
          "output_type": "execute_result",
          "data": {
            "text/plain": [
              "3064"
            ]
          },
          "metadata": {
            "tags": []
          },
          "execution_count": 20
        }
      ]
    },
    {
      "cell_type": "markdown",
      "metadata": {
        "id": "jhsUHiQZtdoP"
      },
      "source": [
        "Now that we have all the images and labels in a lists, we seperate them into features and labels, where features are the images and labels are the image labels. We only take the images that are of shape (512,512). There are few images with other shape. In order to maintain the consistency in the data, we remove these images."
      ]
    },
    {
      "cell_type": "code",
      "metadata": {
        "colab": {
          "base_uri": "https://localhost:8080/"
        },
        "id": "I0x8nFs-MG9T",
        "outputId": "035f9b3c-9e2e-4baf-b474-dcd1028668e3"
      },
      "source": [
        "#Extracting image data from Python List\n",
        "pbar = ProgressBar()\n",
        "features=[]\n",
        "labels=[]\n",
        "\n",
        "for i in pbar(range(N)):\n",
        "    image=data_list[i][\"cjdata\"][\"image\"].value\n",
        "\n",
        "    if image.shape==(512,512):\n",
        "        image=np.expand_dims(image,axis=0)\n",
        "        features.append(image)\n",
        "        \n",
        "        label=int(data_list[i][\"cjdata\"][\"label\"].value)-1\n",
        "        labels.append(label)\n",
        "\n",
        "print(\"We removed \",(len(data_list) - len(features)), \" images which had different shape than (512,512)\")"
      ],
      "execution_count": null,
      "outputs": [
        {
          "output_type": "stream",
          "text": [
            "N/A% (0 of 3064) |                       | Elapsed Time: 0:00:00 ETA:  --:--:--/usr/local/lib/python3.6/dist-packages/ipykernel_launcher.py:7: H5pyDeprecationWarning: dataset.value has been deprecated. Use dataset[()] instead.\n",
            "  import sys\n",
            "/usr/local/lib/python3.6/dist-packages/ipykernel_launcher.py:13: H5pyDeprecationWarning: dataset.value has been deprecated. Use dataset[()] instead.\n",
            "  del sys.path[0]\n",
            "100% (3064 of 3064) |####################| Elapsed Time: 0:00:14 Time:  0:00:14\n"
          ],
          "name": "stderr"
        },
        {
          "output_type": "stream",
          "text": [
            "We removed  15  images which had different shape than (512,512)\n"
          ],
          "name": "stdout"
        }
      ]
    },
    {
      "cell_type": "markdown",
      "metadata": {
        "id": "l9QoC6fGzAWy"
      },
      "source": [
        "Hence, we can see that we removed 15 images with inconsistent shapes. Now we have all the data with same shape. Lets view the images of brain in next step."
      ]
    },
    {
      "cell_type": "markdown",
      "metadata": {
        "id": "7zj8pKuOutLS"
      },
      "source": [
        "#Image Viewer\n",
        "Here we view the images of brain scans that we have stored in the feature list. We pass a index value to the function and it shows the image at that index."
      ]
    },
    {
      "cell_type": "code",
      "metadata": {
        "colab": {
          "base_uri": "https://localhost:8080/",
          "height": 339
        },
        "id": "QpdCJxC8Int0",
        "outputId": "ef438eb4-8ead-4f1b-e315-a769541ef82a"
      },
      "source": [
        "def image_viewer(index):\n",
        "  idx = int(index)\n",
        "  plt.imshow(features[idx].reshape(512,512),cmap=\"gray\")\n",
        "  print(\"The label of the image is : \", labels[idx])\n",
        "\n",
        "#input = raw_input(\"Enter the index between 0 to 3063 to view the image of the brain scan at that index\")\n",
        "image_viewer(input(\"Enter the index between 0 to 3048 to view the image of the brain scan at that index\\n\"))"
      ],
      "execution_count": null,
      "outputs": [
        {
          "output_type": "stream",
          "text": [
            "Enter the index between 0 to 3048 to view the image of the brain scan at that index\n",
            "3048\n",
            "The label of the image is :  0\n"
          ],
          "name": "stdout"
        },
        {
          "output_type": "display_data",
          "data": {
            "image/png": "[encoded data removed]",
            "text/plain": [
              "<Figure size 432x288 with 1 Axes>"
            ]
          },
          "metadata": {
            "tags": [],
            "needs_background": "light"
          }
        }
      ]
    },
    {
      "cell_type": "markdown",
      "metadata": {
        "id": "7Er4F28IzZIq"
      },
      "source": [
        "In next step, we see how the labels are ditributed. First we print the total number of unique labels that we have. "
      ]
    },
    {
      "cell_type": "markdown",
      "metadata": {
        "id": "YTZZM8CW7Emp"
      },
      "source": [
        "# Data Label Distribution"
      ]
    },
    {
      "cell_type": "code",
      "metadata": {
        "colab": {
          "base_uri": "https://localhost:8080/"
        },
        "id": "x1zkmiZVzUoy",
        "outputId": "0e325cef-6b20-43d3-bbdc-8a68f8d86dcb"
      },
      "source": [
        "np.unique(labels)"
      ],
      "execution_count": null,
      "outputs": [
        {
          "output_type": "execute_result",
          "data": {
            "text/plain": [
              "array([0, 1, 2])"
            ]
          },
          "metadata": {
            "tags": []
          },
          "execution_count": 26
        }
      ]
    },
    {
      "cell_type": "markdown",
      "metadata": {
        "id": "EC_NCjYYzmQQ"
      },
      "source": [
        "There are total 3 labels in our data. Each label shows a type of tumor.\n",
        "- 0 for *Meningioma*\n",
        "- 1 for *Glioma*\n",
        "- 2 for *Pituitary tumor*\n",
        "\n",
        "In the report you will see the labels as 1,2,3. We changed the labels to 0,1,2 for programming purposes.\n"
      ]
    },
    {
      "cell_type": "code",
      "metadata": {
        "colab": {
          "base_uri": "https://localhost:8080/",
          "height": 371
        },
        "id": "Mvm1cGQp1Eud",
        "outputId": "2b7b393f-ef9b-4adb-a4de-80deebf06cbc"
      },
      "source": [
        "import pandas as pd\n",
        "import seaborn as sns\n",
        "df = pd.DataFrame()\n",
        "df[\"Labels\"] = np.char.mod('%d', labels)\n",
        "sns.set_theme(style=\"darkgrid\")\n",
        "sns.countplot(df[\"Labels\"])\n",
        "my_xticks = ['Meningioma','Pituitary tumor','Glioma']\n",
        "plt.xticks(range(len(my_xticks)), my_xticks)\n",
        "plt.title(\"Distribution of Labels (Type of Brain Tumor)\")\n",
        "plt.ylabel(\"Count\")"
      ],
      "execution_count": null,
      "outputs": [
        {
          "output_type": "stream",
          "text": [
            "/usr/local/lib/python3.6/dist-packages/seaborn/_decorators.py:43: FutureWarning: Pass the following variable as a keyword arg: x. From version 0.12, the only valid positional argument will be `data`, and passing other arguments without an explicit keyword will result in an error or misinterpretation.\n",
            "  FutureWarning\n"
          ],
          "name": "stderr"
        },
        {
          "output_type": "execute_result",
          "data": {
            "text/plain": [
              "Text(0, 0.5, 'Count')"
            ]
          },
          "metadata": {
            "tags": []
          },
          "execution_count": 46
        },
        {
          "output_type": "display_data",
          "data": {
            "image/png": "[encoded data removed]",
            "text/plain": [
              "<Figure size 432x288 with 1 Axes>"
            ]
          },
          "metadata": {
            "tags": []
          }
        }
      ]
    },
    {
      "cell_type": "markdown",
      "metadata": {
        "id": "YjJZc1ze5OAp"
      },
      "source": [
        "We can see that the labels are unevenly distributed. Hence we need to make sure that while we split the data, we split it in proportion to what we have in the original set, so that the training is done on all type of samples. To achieve this, we use straitified sampling. In the next step, we split the data into training and validation sets using stratified sampling\n",
        "# Stratified Sampling for Training and Validation Set\n",
        "We keep 33% of the data for validation and use rest for testing."
      ]
    },
    {
      "cell_type": "code",
      "metadata": {
        "id": "rXhX562VIsYC"
      },
      "source": [
        "from sklearn.model_selection import train_test_split\n",
        "features_train, features_test, target_train, target_test = train_test_split(features, labels, test_size=0.33, random_state=42,stratify = labels)"
      ],
      "execution_count": null,
      "outputs": []
    },
    {
      "cell_type": "markdown",
      "metadata": {
        "id": "2Af7_Idz6Tw0"
      },
      "source": [
        "# Save the data to file\n",
        "Once we have the sets ready, we save them to a pickle file so that we can use them for training the model. "
      ]
    },
    {
      "cell_type": "code",
      "metadata": {
        "id": "E5rZMLbJQEX_"
      },
      "source": [
        "# Saving data as a pickle file\n",
        "import pickle\n",
        "braindata=[features_train,target_train,features_test,target_test]\n",
        "\n",
        "with open(\"/content/drive/My Drive/Colab Notebooks/dataset/newbraindata_stratified.pickle\",\"wb\") as file:\n",
        "  pickle.dump(braindata,file)"
      ],
      "execution_count": null,
      "outputs": []
    },
    {
      "cell_type": "markdown",
      "metadata": {
        "id": "qvGh2_z97Hmd"
      },
      "source": [
        "Hence, to summarize the steps that we performed here, \n",
        "- Load the data in .mat format\n",
        "- Convert the data to python list/ numpy array\n",
        "- Remove images with inconsistent shape\n",
        "- View the brain scans according to index\n",
        "- Plot the distribution of labels\n",
        "- Implement Stratified Sampling to get training and validation sets."
      ]
    }
  ]
}