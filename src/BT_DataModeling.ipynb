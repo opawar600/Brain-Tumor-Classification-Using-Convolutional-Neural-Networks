{
 "cells": [
  {
   "cell_type": "markdown",
   "metadata": {
    "id": "19kDyuOFy3Su"
   },
   "source": [
    "### CS 512 Computer Vision\n",
    "### Final Project\n",
    "### Brain Tumor Classification using Convolutional Neural Network\n",
    "*Authors*\n",
    "- Kinjal Kachi (A20449343)\n",
    "- Omkar Pawar (A20448802)\n",
    "\n",
    "# Data Modeling\n",
    "In this notebook, we build few models on the data we created. We use training and validation sets that we saved in data wrangling stage.\n",
    "\n",
    "The steps that we will go through are as follows\n",
    "- Load training and validation sets\n",
    "- Create a simple convolutional neural network\n",
    "- Implement Data Augumentation to create model\n",
    "- Try Transfer Learning using ResNet50\n",
    "- Evaluate the models based on accuracy metric\n"
   ]
  },
  {
   "cell_type": "markdown",
   "metadata": {
    "id": "uYNz6iEJzCKR"
   },
   "source": [
    "Imports"
   ]
  },
  {
   "cell_type": "code",
   "execution_count": 1,
   "metadata": {
    "colab": {
     "base_uri": "https://localhost:8080/"
    },
    "id": "uJLcqsxemrgy",
    "outputId": "6ce7ef7e-0d68-47f3-94f8-69b4a652d1ae"
   },
   "outputs": [
    {
     "name": "stdout",
     "output_type": "stream",
     "text": [
      "Mounted at /content/drive\n"
     ]
    }
   ],
   "source": [
    "import os\n",
    "import numpy as np\n",
    "import matplotlib.pyplot as plt\n",
    "import h5py\n",
    "import cv2\n",
    "from keras.layers.normalization import BatchNormalization\n",
    "from keras import models, layers\n",
    "\n",
    "from google.colab import drive\n",
    "import pickle\n",
    "from keras import backend as K\n",
    "from keras.applications.resnet50 import ResNet50\n",
    "from keras import Input\n",
    "\n",
    "import tensorflow as tf\n",
    "from tensorflow import keras\n",
    "from tensorflow.keras import layers\n",
    "\n",
    "from keras.utils import to_categorical\n",
    "from keras.preprocessing.image import ImageDataGenerator\n",
    "\n",
    "drive.mount('/content/drive')"
   ]
  },
  {
   "cell_type": "markdown",
   "metadata": {
    "id": "hbiss9iz0Bet"
   },
   "source": [
    "# Load Training and Validation Sets\n",
    "Load the pickled data that we created in Data Wrangling notebook"
   ]
  },
  {
   "cell_type": "code",
   "execution_count": 2,
   "metadata": {
    "id": "wyAYmIhjmxKm"
   },
   "outputs": [],
   "source": [
    "#Loading data from pickle file (unnecesary step if data has been fectched from drive)\n",
    "\n",
    "pickledir=\"/content/drive/My Drive/Colab Notebooks/dataset/newbraindata_stratified.pickle\"\n",
    "trainx,trainy,testx,testy=pickle.load(open(pickledir,\"rb\"))\n",
    "\n",
    "np.random.seed(0)\n",
    "\n",
    "# Convert labels to categorical datatype\n",
    "trainy = to_categorical(trainy)\n",
    "testy = to_categorical(testy)\n",
    "\n",
    "tf.keras.backend.clear_session()"
   ]
  },
  {
   "cell_type": "markdown",
   "metadata": {
    "id": "LUyKo-2_-qqA"
   },
   "source": [
    "# Data Modeling\n",
    "Here we start modeling out data by create a network architecture and then improving it as required. This model is the optimized version of the models that we tried till now. In the model given below, we have the values as follows.\n",
    "\n",
    "- The model consists of 2 convoulutional layers with Max pooling and batch normalization\n",
    "At the end we flatten the results of this layer and and add 2 fully connected dense layers, one with 64 neurons and one with 3, which is the label of the given image and also known as output layer.\n",
    "\n",
    "- We have kept the stride of (2,2) for all convolutional layers and used 64 filters. Activation function for hidden layers is relu and on output layer we use softmax.\n",
    "\n",
    "- While compiling the model, we minimize the categorical_crossentropy loss function and evaluate the model based on the accuracy."
   ]
  },
  {
   "cell_type": "code",
   "execution_count": null,
   "metadata": {
    "colab": {
     "base_uri": "https://localhost:8080/"
    },
    "id": "BWtJohp664og",
    "outputId": "666e869b-b05a-4518-b26a-3f0aba248830"
   },
   "outputs": [
    {
     "name": "stdout",
     "output_type": "stream",
     "text": [
      "Model: \"sequential_1\"\n",
      "_________________________________________________________________\n",
      "Layer (type)                 Output Shape              Param #   \n",
      "=================================================================\n",
      "conv2d_2 (Conv2D)            (None, 254, 254, 64)      1664      \n",
      "_________________________________________________________________\n",
      "max_pooling2d_2 (MaxPooling2 (None, 127, 127, 64)      0         \n",
      "_________________________________________________________________\n",
      "batch_normalization_2 (Batch (None, 127, 127, 64)      256       \n",
      "_________________________________________________________________\n",
      "conv2d_3 (Conv2D)            (None, 63, 63, 64)        36928     \n",
      "_________________________________________________________________\n",
      "max_pooling2d_3 (MaxPooling2 (None, 31, 31, 64)        0         \n",
      "_________________________________________________________________\n",
      "dropout_1 (Dropout)          (None, 31, 31, 64)        0         \n",
      "_________________________________________________________________\n",
      "batch_normalization_3 (Batch (None, 31, 31, 64)        256       \n",
      "_________________________________________________________________\n",
      "flatten_1 (Flatten)          (None, 61504)             0         \n",
      "_________________________________________________________________\n",
      "dense_2 (Dense)              (None, 64)                3936320   \n",
      "_________________________________________________________________\n",
      "dense_3 (Dense)              (None, 3)                 195       \n",
      "=================================================================\n",
      "Total params: 3,975,619\n",
      "Trainable params: 3,975,363\n",
      "Non-trainable params: 256\n",
      "_________________________________________________________________\n",
      "Epoch 1/20\n",
      "32/32 [==============================] - 96s 3s/step - loss: 2.1626 - accuracy: 0.7742 - val_loss: 7.6632 - val_accuracy: 0.5561\n",
      "Epoch 2/20\n",
      "32/32 [==============================] - 96s 3s/step - loss: 0.3408 - accuracy: 0.8786 - val_loss: 0.7331 - val_accuracy: 0.8361\n",
      "Epoch 3/20\n",
      "32/32 [==============================] - 97s 3s/step - loss: 0.3782 - accuracy: 0.8918 - val_loss: 0.3730 - val_accuracy: 0.8918\n",
      "Epoch 4/20\n",
      "32/32 [==============================] - 95s 3s/step - loss: 0.1541 - accuracy: 0.9373 - val_loss: 0.7800 - val_accuracy: 0.8491\n",
      "Epoch 5/20\n",
      "32/32 [==============================] - 95s 3s/step - loss: 0.1526 - accuracy: 0.9393 - val_loss: 1.4564 - val_accuracy: 0.8153\n",
      "Epoch 6/20\n",
      "32/32 [==============================] - 95s 3s/step - loss: 0.1174 - accuracy: 0.9608 - val_loss: 4.7183 - val_accuracy: 0.7666\n",
      "Epoch 7/20\n",
      "32/32 [==============================] - 94s 3s/step - loss: 0.0722 - accuracy: 0.9716 - val_loss: 0.9395 - val_accuracy: 0.8729\n",
      "Epoch 8/20\n",
      "32/32 [==============================] - 95s 3s/step - loss: 0.0587 - accuracy: 0.9843 - val_loss: 0.8171 - val_accuracy: 0.8729\n",
      "Epoch 9/20\n",
      "32/32 [==============================] - 96s 3s/step - loss: 0.0961 - accuracy: 0.9848 - val_loss: 3.7520 - val_accuracy: 0.7627\n",
      "Epoch 10/20\n",
      "32/32 [==============================] - 94s 3s/step - loss: 0.0467 - accuracy: 0.9878 - val_loss: 0.5517 - val_accuracy: 0.9156\n",
      "Epoch 11/20\n",
      "32/32 [==============================] - 94s 3s/step - loss: 0.0146 - accuracy: 0.9966 - val_loss: 1.0914 - val_accuracy: 0.8679\n",
      "Epoch 12/20\n",
      "32/32 [==============================] - 94s 3s/step - loss: 0.0988 - accuracy: 0.9868 - val_loss: 0.2722 - val_accuracy: 0.9305\n",
      "Epoch 13/20\n",
      "32/32 [==============================] - 94s 3s/step - loss: 0.0204 - accuracy: 0.9936 - val_loss: 0.3884 - val_accuracy: 0.9215\n",
      "Epoch 14/20\n",
      "32/32 [==============================] - 95s 3s/step - loss: 0.0044 - accuracy: 0.9990 - val_loss: 0.3121 - val_accuracy: 0.9355\n",
      "Epoch 15/20\n",
      "32/32 [==============================] - 97s 3s/step - loss: 0.0485 - accuracy: 0.9887 - val_loss: 0.2129 - val_accuracy: 0.9454\n",
      "Epoch 16/20\n",
      "32/32 [==============================] - 95s 3s/step - loss: 0.0795 - accuracy: 0.9858 - val_loss: 0.2492 - val_accuracy: 0.9484\n",
      "Epoch 17/20\n",
      "32/32 [==============================] - 95s 3s/step - loss: 0.0017 - accuracy: 0.9995 - val_loss: 0.1868 - val_accuracy: 0.9523\n",
      "Epoch 18/20\n",
      "32/32 [==============================] - 95s 3s/step - loss: 0.0149 - accuracy: 0.9936 - val_loss: 0.3225 - val_accuracy: 0.9255\n",
      "Epoch 19/20\n",
      "32/32 [==============================] - 94s 3s/step - loss: 0.0696 - accuracy: 0.9936 - val_loss: 0.4982 - val_accuracy: 0.9166\n",
      "Epoch 20/20\n",
      "32/32 [==============================] - 94s 3s/step - loss: 0.0048 - accuracy: 0.9985 - val_loss: 0.1754 - val_accuracy: 0.9503\n"
     ]
    }
   ],
   "source": [
    "# Define a sequential model\n",
    "model = models.Sequential()\n",
    "\n",
    "# Add Input layer which takes the images of shape (512,512,1)\n",
    "model.add(layers.Conv2D(64,(5,5),strides= (2,2), activation = 'relu',kernel_initializer= \"glorot_uniform\", \n",
    "                                  input_shape = (512,512,1)))\n",
    "model.add(layers.MaxPooling2D((2,2)))\n",
    "model.add(BatchNormalization())\n",
    "\n",
    "# Block 2\n",
    "model.add(layers.Conv2D(64,(3,3),strides= (2,2), activation = 'relu',kernel_initializer= \"glorot_uniform\"))\n",
    "model.add(layers.MaxPooling2D((2,2)))\n",
    "model.add(BatchNormalization())\n",
    "model.add(layers.Dropout(0.3))\n",
    "\n",
    "# Flatten the output of previous layers\n",
    "model.add(layers.Flatten())\n",
    "\n",
    "# Add dense layer\n",
    "model.add(layers.Dense(64,activation='relu'))\n",
    "# Output layer\n",
    "model.add(layers.Dense(3,activation='softmax'))\n",
    "\n",
    "#Show the model summary\n",
    "model.summary()\n",
    "\n",
    "# Fit model on training data and validate the accuracy on validation set.\n",
    "model.compile(optimizer='rmsprop', loss='categorical_crossentropy',metrics = [\"accuracy\"])\n",
    "history = model.fit(trainx,trainy,epochs=20,batch_size=64,validation_data=(testx,testy))"
   ]
  },
  {
   "cell_type": "markdown",
   "metadata": {
    "id": "dDLOSrEZ30lN"
   },
   "source": [
    "Plot loss and accuracy values for training and validation set."
   ]
  },
  {
   "cell_type": "code",
   "execution_count": null,
   "metadata": {
    "colab": {
     "base_uri": "https://localhost:8080/",
     "height": 332
    },
    "id": "oROPlQSN9PPU",
    "outputId": "4004af5e-3847-425e-b2d1-671a6c73c479"
   },
   "outputs": [
    {
     "data": {
      "text/plain": [
       "<matplotlib.legend.Legend at 0x7f06d05060f0>"
      ]
     },
     "execution_count": 18,
     "metadata": {
      "tags": []
     },
     "output_type": "execute_result"
    },
    {
     "data": {
      "image/png": "[encoded data removed]",
      "text/plain": [
       "<Figure size 432x288 with 1 Axes>"
      ]
     },
     "metadata": {
      "tags": []
     },
     "output_type": "display_data"
    }
   ],
   "source": [
    "plt.plot(history.history['accuracy'])\n",
    "plt.plot(history.history['val_accuracy'])\n",
    "plt.title('Training and validtation Accuracy')\n",
    "plt.ylabel('Accuracy')\n",
    "plt.xlabel('Epoch')\n",
    "plt.legend(['Training', 'Validation'])"
   ]
  },
  {
   "cell_type": "code",
   "execution_count": null,
   "metadata": {
    "colab": {
     "base_uri": "https://localhost:8080/",
     "height": 332
    },
    "id": "exMHf9sqmFmZ",
    "outputId": "6c34caf0-d52e-421c-b111-edebae5139c0"
   },
   "outputs": [
    {
     "data": {
      "text/plain": [
       "<matplotlib.legend.Legend at 0x7faf0f4c8da0>"
      ]
     },
     "execution_count": 15,
     "metadata": {
      "tags": []
     },
     "output_type": "execute_result"
    },
    {
     "data": {
      "image/png": "[encoded data removed]",
      "text/plain": [
       "<Figure size 432x288 with 1 Axes>"
      ]
     },
     "metadata": {
      "tags": []
     },
     "output_type": "display_data"
    }
   ],
   "source": [
    "plt.plot(history.history['loss'])\n",
    "plt.plot(history.history['val_loss'])\n",
    "plt.title('Training and validtation Loss Over 20 epochs')\n",
    "plt.ylabel('Accuracy')\n",
    "plt.xlabel('Epoch')\n",
    "plt.legend(['Training', 'Validation'])"
   ]
  },
  {
   "cell_type": "markdown",
   "metadata": {
    "id": "OWcGueD1tmKD"
   },
   "source": [
    "# Data Augumentation\n",
    "This step is generally done in data preprocessing where we make changes to existing features like flip, rotation, skew, shear, etc to generate new samples of same image to get different point of views. We have done data augmentation using ImageDataGenerator in keras where it augments the data randomly in the runtime, while the model is being trained.\n",
    "\n",
    "We tried implementing data augmentation in hope that the model will generalize better. In the above results we can see that even though the model performs good on validation data, it seems to overfit the training data. Hence anticipating better results using different views of the image, we used data augmentation.\n",
    "\n",
    "Here we have defined a data generator which randomly flips the image horizontally and vertically and also rotates it by the scale of 90."
   ]
  },
  {
   "cell_type": "code",
   "execution_count": null,
   "metadata": {
    "id": "Sn9uqFObsTAo"
   },
   "outputs": [],
   "source": [
    "datagen = ImageDataGenerator(rotation_range=90,horizontal_flip=True,vertical_flip=True)\n",
    "datagen.fit(trainx)"
   ]
  },
  {
   "cell_type": "code",
   "execution_count": null,
   "metadata": {
    "colab": {
     "base_uri": "https://localhost:8080/"
    },
    "id": "aLXSUwl84Qmw",
    "outputId": "51dd7c20-f9a2-453f-e66c-c5239971adba"
   },
   "outputs": [
    {
     "name": "stdout",
     "output_type": "stream",
     "text": [
      "Model: \"sequential_4\"\n",
      "_________________________________________________________________\n",
      "Layer (type)                 Output Shape              Param #   \n",
      "=================================================================\n",
      "conv2d_8 (Conv2D)            (None, 254, 254, 64)      1664      \n",
      "_________________________________________________________________\n",
      "max_pooling2d_8 (MaxPooling2 (None, 127, 127, 64)      0         \n",
      "_________________________________________________________________\n",
      "batch_normalization_8 (Batch (None, 127, 127, 64)      256       \n",
      "_________________________________________________________________\n",
      "conv2d_9 (Conv2D)            (None, 63, 63, 64)        36928     \n",
      "_________________________________________________________________\n",
      "max_pooling2d_9 (MaxPooling2 (None, 31, 31, 64)        0         \n",
      "_________________________________________________________________\n",
      "dropout_4 (Dropout)          (None, 31, 31, 64)        0         \n",
      "_________________________________________________________________\n",
      "batch_normalization_9 (Batch (None, 31, 31, 64)        256       \n",
      "_________________________________________________________________\n",
      "flatten_4 (Flatten)          (None, 61504)             0         \n",
      "_________________________________________________________________\n",
      "dense_8 (Dense)              (None, 64)                3936320   \n",
      "_________________________________________________________________\n",
      "dense_9 (Dense)              (None, 3)                 195       \n",
      "=================================================================\n",
      "Total params: 3,975,619\n",
      "Trainable params: 3,975,363\n",
      "Non-trainable params: 256\n",
      "_________________________________________________________________\n",
      "Epoch 1/20\n",
      "64/64 [==============================] - 110s 2s/step - loss: 2.0427 - accuracy: 0.6337 - val_loss: 3.1050 - val_accuracy: 0.6137\n",
      "Epoch 2/20\n",
      "64/64 [==============================] - 109s 2s/step - loss: 0.7003 - accuracy: 0.6871 - val_loss: 1.2440 - val_accuracy: 0.6127\n",
      "Epoch 3/20\n",
      "64/64 [==============================] - 109s 2s/step - loss: 0.6710 - accuracy: 0.7253 - val_loss: 1.2918 - val_accuracy: 0.6574\n",
      "Epoch 4/20\n",
      "64/64 [==============================] - 108s 2s/step - loss: 0.6170 - accuracy: 0.7752 - val_loss: 0.6354 - val_accuracy: 0.7587\n",
      "Epoch 5/20\n",
      "64/64 [==============================] - 110s 2s/step - loss: 0.5482 - accuracy: 0.7948 - val_loss: 0.7039 - val_accuracy: 0.6961\n",
      "Epoch 6/20\n",
      "64/64 [==============================] - 108s 2s/step - loss: 0.4770 - accuracy: 0.8237 - val_loss: 0.6079 - val_accuracy: 0.7160\n",
      "Epoch 7/20\n",
      "64/64 [==============================] - 108s 2s/step - loss: 0.4673 - accuracy: 0.8266 - val_loss: 251.7323 - val_accuracy: 0.4677\n",
      "Epoch 8/20\n",
      "64/64 [==============================] - 108s 2s/step - loss: 0.4984 - accuracy: 0.8227 - val_loss: 0.7184 - val_accuracy: 0.7925\n",
      "Epoch 9/20\n",
      "64/64 [==============================] - 108s 2s/step - loss: 0.4549 - accuracy: 0.8379 - val_loss: 0.6479 - val_accuracy: 0.7607\n",
      "Epoch 10/20\n",
      "64/64 [==============================] - 110s 2s/step - loss: 0.4140 - accuracy: 0.8423 - val_loss: 1.7005 - val_accuracy: 0.8034\n",
      "Epoch 11/20\n",
      "64/64 [==============================] - 108s 2s/step - loss: 0.4681 - accuracy: 0.8389 - val_loss: 0.5242 - val_accuracy: 0.7934\n",
      "Epoch 12/20\n",
      "64/64 [==============================] - 108s 2s/step - loss: 0.4319 - accuracy: 0.8487 - val_loss: 0.7988 - val_accuracy: 0.7299\n",
      "Epoch 13/20\n",
      "64/64 [==============================] - 108s 2s/step - loss: 0.3835 - accuracy: 0.8526 - val_loss: 0.6583 - val_accuracy: 0.7378\n",
      "Epoch 14/20\n",
      "64/64 [==============================] - 108s 2s/step - loss: 0.3978 - accuracy: 0.8506 - val_loss: 9.6854 - val_accuracy: 0.6634\n",
      "Epoch 15/20\n",
      "64/64 [==============================] - 108s 2s/step - loss: 0.3837 - accuracy: 0.8580 - val_loss: 0.5603 - val_accuracy: 0.7637\n",
      "Epoch 16/20\n",
      "64/64 [==============================] - 110s 2s/step - loss: 0.4347 - accuracy: 0.8506 - val_loss: 0.6439 - val_accuracy: 0.7905\n",
      "Epoch 17/20\n",
      "64/64 [==============================] - 108s 2s/step - loss: 0.3584 - accuracy: 0.8678 - val_loss: 0.6283 - val_accuracy: 0.7885\n",
      "Epoch 18/20\n",
      "64/64 [==============================] - 108s 2s/step - loss: 0.3677 - accuracy: 0.8688 - val_loss: 0.4877 - val_accuracy: 0.8381\n",
      "Epoch 19/20\n",
      "64/64 [==============================] - 108s 2s/step - loss: 0.4109 - accuracy: 0.8590 - val_loss: 1.0417 - val_accuracy: 0.7855\n",
      "Epoch 20/20\n",
      "64/64 [==============================] - 108s 2s/step - loss: 0.3578 - accuracy: 0.8614 - val_loss: 4.6049 - val_accuracy: 0.6395\n"
     ]
    }
   ],
   "source": [
    "dataaug_model = models.Sequential()\n",
    "\n",
    "# Add Input layer which takes the images of shape (512,512,1)\n",
    "dataaug_model.add(layers.Conv2D(64,(5,5),strides= (2,2), activation = 'relu',kernel_initializer= \"glorot_uniform\", \n",
    "                                  input_shape = (512,512,1)))\n",
    "dataaug_model.add(layers.MaxPooling2D((2,2)))\n",
    "dataaug_model.add(BatchNormalization())\n",
    "\n",
    "# Block 2\n",
    "dataaug_model.add(layers.Conv2D(64,(3,3),strides= (2,2), activation = 'relu',kernel_initializer= \"glorot_uniform\"))\n",
    "dataaug_model.add(layers.MaxPooling2D((2,2)))\n",
    "dataaug_model.add(layers.Dropout(0.3))\n",
    "dataaug_model.add(BatchNormalization())\n",
    "\n",
    "# Flatten the output of previous layers\n",
    "dataaug_model.add(layers.Flatten())\n",
    "\n",
    "# Add dense layer\n",
    "dataaug_model.add(layers.Dense(64,activation='relu'))\n",
    "# Output layer\n",
    "dataaug_model.add(layers.Dense(3,activation='softmax'))\n",
    "\n",
    "#Show the model summary\n",
    "dataaug_model.summary()\n",
    "\n",
    "# Fit model on training data and validate the accuracy on validation set.\n",
    "dataaug_model.compile(optimizer='rmsprop', loss='categorical_crossentropy',metrics = [\"accuracy\"])\n",
    "history_dataaug_ = dataaug_model.fit(datagen.flow(trainx,trainy, batch_size=32),epochs=20,batch_size=64,validation_data=(testx,testy))"
   ]
  },
  {
   "cell_type": "code",
   "execution_count": null,
   "metadata": {
    "colab": {
     "base_uri": "https://localhost:8080/",
     "height": 332
    },
    "id": "7vMC-UTcD6rk",
    "outputId": "ace30969-5ba8-4e1a-83c8-c08a07201dcc"
   },
   "outputs": [
    {
     "data": {
      "text/plain": [
       "<matplotlib.legend.Legend at 0x7faf0de8c518>"
      ]
     },
     "execution_count": 21,
     "metadata": {
      "tags": []
     },
     "output_type": "execute_result"
    },
    {
     "data": {
      "image/png": "[encoded data removed]",
      "text/plain": [
       "<Figure size 432x288 with 1 Axes>"
      ]
     },
     "metadata": {
      "tags": []
     },
     "output_type": "display_data"
    }
   ],
   "source": [
    "plt.plot(history_dataaug_.history['accuracy'])\n",
    "plt.plot(history_dataaug_.history['val_accuracy'])\n",
    "plt.title('Training and validtation Accuracy')\n",
    "plt.ylabel('Accuracy')\n",
    "plt.xlabel('Epoch')\n",
    "plt.legend(['Training', 'Validation'])"
   ]
  },
  {
   "cell_type": "markdown",
   "metadata": {
    "id": "wOCFMxilwmcE"
   },
   "source": [
    "# Transfer Learning\n",
    "The networks that we implemented above had few layers and if we wish to build deeper neural networks, it would take a lot of time to train and find the optimal weights and biases. One step to cut this process short and make it more efficient is transfer learning. In this approach, we try to use the weights of already trained models and just change the input and output layers to make it work for our problem. One of such network for image classification is ResNet 50 (Residual Network). \n",
    "\n",
    "- ResNet50\n",
    "\n",
    "A residual neural network is an artificial neural network of a kind that builds on constructs known from pyramidal cells in the cerebral cortex. Residual neural networks do this by utilizing skip connections, or shortcuts to jump over some layers. Details of this model are given in the report. Here we will just load the pretrained ResNet model using imagenet weights and discard the output layers. We will also change the input shape parameter to (512,512,3). Notice that we have converted out training and testing features to 3-channel images as ResNet works only on RGB.\n",
    "Also, we freeze most of the layers to reduce the training time. If not done, the notebook crashes as it can't handle such large parameter computations.\n",
    "\n",
    "We print the summary of imported resnet model and then add our layers to train the model on our data"
   ]
  },
  {
   "cell_type": "code",
   "execution_count": 3,
   "metadata": {
    "colab": {
     "base_uri": "https://localhost:8080/"
    },
    "id": "f1liixKEDo91",
    "outputId": "abba4742-58a4-4934-fc1e-109d997deb3d"
   },
   "outputs": [
    {
     "data": {
      "text/plain": [
       "TensorShape([1007, 512, 512, 3])"
      ]
     },
     "execution_count": 3,
     "metadata": {
      "tags": []
     },
     "output_type": "execute_result"
    }
   ],
   "source": [
    "def grayscale_to_rgb(images, channel_axis=-1):\n",
    "    #images= K.expand_dims(images, axis=channel_axis)\n",
    "    tiling = [1] * 4    # 4 dimensions: B, H, W, C\n",
    "    tiling[channel_axis] *= 3\n",
    "    images= K.tile(images, tiling)\n",
    "    return images\n",
    "\n",
    "rgb_train = grayscale_to_rgb(trainx)\n",
    "rgb_test = grayscale_to_rgb(testx)\n",
    "rgb_test.shape"
   ]
  },
  {
   "cell_type": "code",
   "execution_count": 4,
   "metadata": {
    "colab": {
     "base_uri": "https://localhost:8080/"
    },
    "id": "8M088sONwpJN",
    "outputId": "aa2dfa95-cadf-4c7a-d3c2-b249e0c5699d"
   },
   "outputs": [
    {
     "name": "stdout",
     "output_type": "stream",
     "text": [
      "Downloading data from https://storage.googleapis.com/tensorflow/keras-applications/resnet/resnet50_weights_tf_dim_ordering_tf_kernels_notop.h5\n",
      "94773248/94765736 [==============================] - 1s 0us/step\n",
      "Model: \"resnet50\"\n",
      "__________________________________________________________________________________________________\n",
      "Layer (type)                    Output Shape         Param #     Connected to                     \n",
      "==================================================================================================\n",
      "input_1 (InputLayer)            [(None, 512, 512, 3) 0                                            \n",
      "__________________________________________________________________________________________________\n",
      "conv1_pad (ZeroPadding2D)       (None, 518, 518, 3)  0           input_1[0][0]                    \n",
      "__________________________________________________________________________________________________\n",
      "conv1_conv (Conv2D)             (None, 256, 256, 64) 9472        conv1_pad[0][0]                  \n",
      "__________________________________________________________________________________________________\n",
      "conv1_bn (BatchNormalization)   (None, 256, 256, 64) 256         conv1_conv[0][0]                 \n",
      "__________________________________________________________________________________________________\n",
      "conv1_relu (Activation)         (None, 256, 256, 64) 0           conv1_bn[0][0]                   \n",
      "__________________________________________________________________________________________________\n",
      "pool1_pad (ZeroPadding2D)       (None, 258, 258, 64) 0           conv1_relu[0][0]                 \n",
      "__________________________________________________________________________________________________\n",
      "pool1_pool (MaxPooling2D)       (None, 128, 128, 64) 0           pool1_pad[0][0]                  \n",
      "__________________________________________________________________________________________________\n",
      "conv2_block1_1_conv (Conv2D)    (None, 128, 128, 64) 4160        pool1_pool[0][0]                 \n",
      "__________________________________________________________________________________________________\n",
      "conv2_block1_1_bn (BatchNormali (None, 128, 128, 64) 256         conv2_block1_1_conv[0][0]        \n",
      "__________________________________________________________________________________________________\n",
      "conv2_block1_1_relu (Activation (None, 128, 128, 64) 0           conv2_block1_1_bn[0][0]          \n",
      "__________________________________________________________________________________________________\n",
      "conv2_block1_2_conv (Conv2D)    (None, 128, 128, 64) 36928       conv2_block1_1_relu[0][0]        \n",
      "__________________________________________________________________________________________________\n",
      "conv2_block1_2_bn (BatchNormali (None, 128, 128, 64) 256         conv2_block1_2_conv[0][0]        \n",
      "__________________________________________________________________________________________________\n",
      "conv2_block1_2_relu (Activation (None, 128, 128, 64) 0           conv2_block1_2_bn[0][0]          \n",
      "__________________________________________________________________________________________________\n",
      "conv2_block1_0_conv (Conv2D)    (None, 128, 128, 256 16640       pool1_pool[0][0]                 \n",
      "__________________________________________________________________________________________________\n",
      "conv2_block1_3_conv (Conv2D)    (None, 128, 128, 256 16640       conv2_block1_2_relu[0][0]        \n",
      "__________________________________________________________________________________________________\n",
      "conv2_block1_0_bn (BatchNormali (None, 128, 128, 256 1024        conv2_block1_0_conv[0][0]        \n",
      "__________________________________________________________________________________________________\n",
      "conv2_block1_3_bn (BatchNormali (None, 128, 128, 256 1024        conv2_block1_3_conv[0][0]        \n",
      "__________________________________________________________________________________________________\n",
      "conv2_block1_add (Add)          (None, 128, 128, 256 0           conv2_block1_0_bn[0][0]          \n",
      "                                                                 conv2_block1_3_bn[0][0]          \n",
      "__________________________________________________________________________________________________\n",
      "conv2_block1_out (Activation)   (None, 128, 128, 256 0           conv2_block1_add[0][0]           \n",
      "__________________________________________________________________________________________________\n",
      "conv2_block2_1_conv (Conv2D)    (None, 128, 128, 64) 16448       conv2_block1_out[0][0]           \n",
      "__________________________________________________________________________________________________\n",
      "conv2_block2_1_bn (BatchNormali (None, 128, 128, 64) 256         conv2_block2_1_conv[0][0]        \n",
      "__________________________________________________________________________________________________\n",
      "conv2_block2_1_relu (Activation (None, 128, 128, 64) 0           conv2_block2_1_bn[0][0]          \n",
      "__________________________________________________________________________________________________\n",
      "conv2_block2_2_conv (Conv2D)    (None, 128, 128, 64) 36928       conv2_block2_1_relu[0][0]        \n",
      "__________________________________________________________________________________________________\n",
      "conv2_block2_2_bn (BatchNormali (None, 128, 128, 64) 256         conv2_block2_2_conv[0][0]        \n",
      "__________________________________________________________________________________________________\n",
      "conv2_block2_2_relu (Activation (None, 128, 128, 64) 0           conv2_block2_2_bn[0][0]          \n",
      "__________________________________________________________________________________________________\n",
      "conv2_block2_3_conv (Conv2D)    (None, 128, 128, 256 16640       conv2_block2_2_relu[0][0]        \n",
      "__________________________________________________________________________________________________\n",
      "conv2_block2_3_bn (BatchNormali (None, 128, 128, 256 1024        conv2_block2_3_conv[0][0]        \n",
      "__________________________________________________________________________________________________\n",
      "conv2_block2_add (Add)          (None, 128, 128, 256 0           conv2_block1_out[0][0]           \n",
      "                                                                 conv2_block2_3_bn[0][0]          \n",
      "__________________________________________________________________________________________________\n",
      "conv2_block2_out (Activation)   (None, 128, 128, 256 0           conv2_block2_add[0][0]           \n",
      "__________________________________________________________________________________________________\n",
      "conv2_block3_1_conv (Conv2D)    (None, 128, 128, 64) 16448       conv2_block2_out[0][0]           \n",
      "__________________________________________________________________________________________________\n",
      "conv2_block3_1_bn (BatchNormali (None, 128, 128, 64) 256         conv2_block3_1_conv[0][0]        \n",
      "__________________________________________________________________________________________________\n",
      "conv2_block3_1_relu (Activation (None, 128, 128, 64) 0           conv2_block3_1_bn[0][0]          \n",
      "__________________________________________________________________________________________________\n",
      "conv2_block3_2_conv (Conv2D)    (None, 128, 128, 64) 36928       conv2_block3_1_relu[0][0]        \n",
      "__________________________________________________________________________________________________\n",
      "conv2_block3_2_bn (BatchNormali (None, 128, 128, 64) 256         conv2_block3_2_conv[0][0]        \n",
      "__________________________________________________________________________________________________\n",
      "conv2_block3_2_relu (Activation (None, 128, 128, 64) 0           conv2_block3_2_bn[0][0]          \n",
      "__________________________________________________________________________________________________\n",
      "conv2_block3_3_conv (Conv2D)    (None, 128, 128, 256 16640       conv2_block3_2_relu[0][0]        \n",
      "__________________________________________________________________________________________________\n",
      "conv2_block3_3_bn (BatchNormali (None, 128, 128, 256 1024        conv2_block3_3_conv[0][0]        \n",
      "__________________________________________________________________________________________________\n",
      "conv2_block3_add (Add)          (None, 128, 128, 256 0           conv2_block2_out[0][0]           \n",
      "                                                                 conv2_block3_3_bn[0][0]          \n",
      "__________________________________________________________________________________________________\n",
      "conv2_block3_out (Activation)   (None, 128, 128, 256 0           conv2_block3_add[0][0]           \n",
      "__________________________________________________________________________________________________\n",
      "conv3_block1_1_conv (Conv2D)    (None, 64, 64, 128)  32896       conv2_block3_out[0][0]           \n",
      "__________________________________________________________________________________________________\n",
      "conv3_block1_1_bn (BatchNormali (None, 64, 64, 128)  512         conv3_block1_1_conv[0][0]        \n",
      "__________________________________________________________________________________________________\n",
      "conv3_block1_1_relu (Activation (None, 64, 64, 128)  0           conv3_block1_1_bn[0][0]          \n",
      "__________________________________________________________________________________________________\n",
      "conv3_block1_2_conv (Conv2D)    (None, 64, 64, 128)  147584      conv3_block1_1_relu[0][0]        \n",
      "__________________________________________________________________________________________________\n",
      "conv3_block1_2_bn (BatchNormali (None, 64, 64, 128)  512         conv3_block1_2_conv[0][0]        \n",
      "__________________________________________________________________________________________________\n",
      "conv3_block1_2_relu (Activation (None, 64, 64, 128)  0           conv3_block1_2_bn[0][0]          \n",
      "__________________________________________________________________________________________________\n",
      "conv3_block1_0_conv (Conv2D)    (None, 64, 64, 512)  131584      conv2_block3_out[0][0]           \n",
      "__________________________________________________________________________________________________\n",
      "conv3_block1_3_conv (Conv2D)    (None, 64, 64, 512)  66048       conv3_block1_2_relu[0][0]        \n",
      "__________________________________________________________________________________________________\n",
      "conv3_block1_0_bn (BatchNormali (None, 64, 64, 512)  2048        conv3_block1_0_conv[0][0]        \n",
      "__________________________________________________________________________________________________\n",
      "conv3_block1_3_bn (BatchNormali (None, 64, 64, 512)  2048        conv3_block1_3_conv[0][0]        \n",
      "__________________________________________________________________________________________________\n",
      "conv3_block1_add (Add)          (None, 64, 64, 512)  0           conv3_block1_0_bn[0][0]          \n",
      "                                                                 conv3_block1_3_bn[0][0]          \n",
      "__________________________________________________________________________________________________\n",
      "conv3_block1_out (Activation)   (None, 64, 64, 512)  0           conv3_block1_add[0][0]           \n",
      "__________________________________________________________________________________________________\n",
      "conv3_block2_1_conv (Conv2D)    (None, 64, 64, 128)  65664       conv3_block1_out[0][0]           \n",
      "__________________________________________________________________________________________________\n",
      "conv3_block2_1_bn (BatchNormali (None, 64, 64, 128)  512         conv3_block2_1_conv[0][0]        \n",
      "__________________________________________________________________________________________________\n",
      "conv3_block2_1_relu (Activation (None, 64, 64, 128)  0           conv3_block2_1_bn[0][0]          \n",
      "__________________________________________________________________________________________________\n",
      "conv3_block2_2_conv (Conv2D)    (None, 64, 64, 128)  147584      conv3_block2_1_relu[0][0]        \n",
      "__________________________________________________________________________________________________\n",
      "conv3_block2_2_bn (BatchNormali (None, 64, 64, 128)  512         conv3_block2_2_conv[0][0]        \n",
      "__________________________________________________________________________________________________\n",
      "conv3_block2_2_relu (Activation (None, 64, 64, 128)  0           conv3_block2_2_bn[0][0]          \n",
      "__________________________________________________________________________________________________\n",
      "conv3_block2_3_conv (Conv2D)    (None, 64, 64, 512)  66048       conv3_block2_2_relu[0][0]        \n",
      "__________________________________________________________________________________________________\n",
      "conv3_block2_3_bn (BatchNormali (None, 64, 64, 512)  2048        conv3_block2_3_conv[0][0]        \n",
      "__________________________________________________________________________________________________\n",
      "conv3_block2_add (Add)          (None, 64, 64, 512)  0           conv3_block1_out[0][0]           \n",
      "                                                                 conv3_block2_3_bn[0][0]          \n",
      "__________________________________________________________________________________________________\n",
      "conv3_block2_out (Activation)   (None, 64, 64, 512)  0           conv3_block2_add[0][0]           \n",
      "__________________________________________________________________________________________________\n",
      "conv3_block3_1_conv (Conv2D)    (None, 64, 64, 128)  65664       conv3_block2_out[0][0]           \n",
      "__________________________________________________________________________________________________\n",
      "conv3_block3_1_bn (BatchNormali (None, 64, 64, 128)  512         conv3_block3_1_conv[0][0]        \n",
      "__________________________________________________________________________________________________\n",
      "conv3_block3_1_relu (Activation (None, 64, 64, 128)  0           conv3_block3_1_bn[0][0]          \n",
      "__________________________________________________________________________________________________\n",
      "conv3_block3_2_conv (Conv2D)    (None, 64, 64, 128)  147584      conv3_block3_1_relu[0][0]        \n",
      "__________________________________________________________________________________________________\n",
      "conv3_block3_2_bn (BatchNormali (None, 64, 64, 128)  512         conv3_block3_2_conv[0][0]        \n",
      "__________________________________________________________________________________________________\n",
      "conv3_block3_2_relu (Activation (None, 64, 64, 128)  0           conv3_block3_2_bn[0][0]          \n",
      "__________________________________________________________________________________________________\n",
      "conv3_block3_3_conv (Conv2D)    (None, 64, 64, 512)  66048       conv3_block3_2_relu[0][0]        \n",
      "__________________________________________________________________________________________________\n",
      "conv3_block3_3_bn (BatchNormali (None, 64, 64, 512)  2048        conv3_block3_3_conv[0][0]        \n",
      "__________________________________________________________________________________________________\n",
      "conv3_block3_add (Add)          (None, 64, 64, 512)  0           conv3_block2_out[0][0]           \n",
      "                                                                 conv3_block3_3_bn[0][0]          \n",
      "__________________________________________________________________________________________________\n",
      "conv3_block3_out (Activation)   (None, 64, 64, 512)  0           conv3_block3_add[0][0]           \n",
      "__________________________________________________________________________________________________\n",
      "conv3_block4_1_conv (Conv2D)    (None, 64, 64, 128)  65664       conv3_block3_out[0][0]           \n",
      "__________________________________________________________________________________________________\n",
      "conv3_block4_1_bn (BatchNormali (None, 64, 64, 128)  512         conv3_block4_1_conv[0][0]        \n",
      "__________________________________________________________________________________________________\n",
      "conv3_block4_1_relu (Activation (None, 64, 64, 128)  0           conv3_block4_1_bn[0][0]          \n",
      "__________________________________________________________________________________________________\n",
      "conv3_block4_2_conv (Conv2D)    (None, 64, 64, 128)  147584      conv3_block4_1_relu[0][0]        \n",
      "__________________________________________________________________________________________________\n",
      "conv3_block4_2_bn (BatchNormali (None, 64, 64, 128)  512         conv3_block4_2_conv[0][0]        \n",
      "__________________________________________________________________________________________________\n",
      "conv3_block4_2_relu (Activation (None, 64, 64, 128)  0           conv3_block4_2_bn[0][0]          \n",
      "__________________________________________________________________________________________________\n",
      "conv3_block4_3_conv (Conv2D)    (None, 64, 64, 512)  66048       conv3_block4_2_relu[0][0]        \n",
      "__________________________________________________________________________________________________\n",
      "conv3_block4_3_bn (BatchNormali (None, 64, 64, 512)  2048        conv3_block4_3_conv[0][0]        \n",
      "__________________________________________________________________________________________________\n",
      "conv3_block4_add (Add)          (None, 64, 64, 512)  0           conv3_block3_out[0][0]           \n",
      "                                                                 conv3_block4_3_bn[0][0]          \n",
      "__________________________________________________________________________________________________\n",
      "conv3_block4_out (Activation)   (None, 64, 64, 512)  0           conv3_block4_add[0][0]           \n",
      "__________________________________________________________________________________________________\n",
      "conv4_block1_1_conv (Conv2D)    (None, 32, 32, 256)  131328      conv3_block4_out[0][0]           \n",
      "__________________________________________________________________________________________________\n",
      "conv4_block1_1_bn (BatchNormali (None, 32, 32, 256)  1024        conv4_block1_1_conv[0][0]        \n",
      "__________________________________________________________________________________________________\n",
      "conv4_block1_1_relu (Activation (None, 32, 32, 256)  0           conv4_block1_1_bn[0][0]          \n",
      "__________________________________________________________________________________________________\n",
      "conv4_block1_2_conv (Conv2D)    (None, 32, 32, 256)  590080      conv4_block1_1_relu[0][0]        \n",
      "__________________________________________________________________________________________________\n",
      "conv4_block1_2_bn (BatchNormali (None, 32, 32, 256)  1024        conv4_block1_2_conv[0][0]        \n",
      "__________________________________________________________________________________________________\n",
      "conv4_block1_2_relu (Activation (None, 32, 32, 256)  0           conv4_block1_2_bn[0][0]          \n",
      "__________________________________________________________________________________________________\n",
      "conv4_block1_0_conv (Conv2D)    (None, 32, 32, 1024) 525312      conv3_block4_out[0][0]           \n",
      "__________________________________________________________________________________________________\n",
      "conv4_block1_3_conv (Conv2D)    (None, 32, 32, 1024) 263168      conv4_block1_2_relu[0][0]        \n",
      "__________________________________________________________________________________________________\n",
      "conv4_block1_0_bn (BatchNormali (None, 32, 32, 1024) 4096        conv4_block1_0_conv[0][0]        \n",
      "__________________________________________________________________________________________________\n",
      "conv4_block1_3_bn (BatchNormali (None, 32, 32, 1024) 4096        conv4_block1_3_conv[0][0]        \n",
      "__________________________________________________________________________________________________\n",
      "conv4_block1_add (Add)          (None, 32, 32, 1024) 0           conv4_block1_0_bn[0][0]          \n",
      "                                                                 conv4_block1_3_bn[0][0]          \n",
      "__________________________________________________________________________________________________\n",
      "conv4_block1_out (Activation)   (None, 32, 32, 1024) 0           conv4_block1_add[0][0]           \n",
      "__________________________________________________________________________________________________\n",
      "conv4_block2_1_conv (Conv2D)    (None, 32, 32, 256)  262400      conv4_block1_out[0][0]           \n",
      "__________________________________________________________________________________________________\n",
      "conv4_block2_1_bn (BatchNormali (None, 32, 32, 256)  1024        conv4_block2_1_conv[0][0]        \n",
      "__________________________________________________________________________________________________\n",
      "conv4_block2_1_relu (Activation (None, 32, 32, 256)  0           conv4_block2_1_bn[0][0]          \n",
      "__________________________________________________________________________________________________\n",
      "conv4_block2_2_conv (Conv2D)    (None, 32, 32, 256)  590080      conv4_block2_1_relu[0][0]        \n",
      "__________________________________________________________________________________________________\n",
      "conv4_block2_2_bn (BatchNormali (None, 32, 32, 256)  1024        conv4_block2_2_conv[0][0]        \n",
      "__________________________________________________________________________________________________\n",
      "conv4_block2_2_relu (Activation (None, 32, 32, 256)  0           conv4_block2_2_bn[0][0]          \n",
      "__________________________________________________________________________________________________\n",
      "conv4_block2_3_conv (Conv2D)    (None, 32, 32, 1024) 263168      conv4_block2_2_relu[0][0]        \n",
      "__________________________________________________________________________________________________\n",
      "conv4_block2_3_bn (BatchNormali (None, 32, 32, 1024) 4096        conv4_block2_3_conv[0][0]        \n",
      "__________________________________________________________________________________________________\n",
      "conv4_block2_add (Add)          (None, 32, 32, 1024) 0           conv4_block1_out[0][0]           \n",
      "                                                                 conv4_block2_3_bn[0][0]          \n",
      "__________________________________________________________________________________________________\n",
      "conv4_block2_out (Activation)   (None, 32, 32, 1024) 0           conv4_block2_add[0][0]           \n",
      "__________________________________________________________________________________________________\n",
      "conv4_block3_1_conv (Conv2D)    (None, 32, 32, 256)  262400      conv4_block2_out[0][0]           \n",
      "__________________________________________________________________________________________________\n",
      "conv4_block3_1_bn (BatchNormali (None, 32, 32, 256)  1024        conv4_block3_1_conv[0][0]        \n",
      "__________________________________________________________________________________________________\n",
      "conv4_block3_1_relu (Activation (None, 32, 32, 256)  0           conv4_block3_1_bn[0][0]          \n",
      "__________________________________________________________________________________________________\n",
      "conv4_block3_2_conv (Conv2D)    (None, 32, 32, 256)  590080      conv4_block3_1_relu[0][0]        \n",
      "__________________________________________________________________________________________________\n",
      "conv4_block3_2_bn (BatchNormali (None, 32, 32, 256)  1024        conv4_block3_2_conv[0][0]        \n",
      "__________________________________________________________________________________________________\n",
      "conv4_block3_2_relu (Activation (None, 32, 32, 256)  0           conv4_block3_2_bn[0][0]          \n",
      "__________________________________________________________________________________________________\n",
      "conv4_block3_3_conv (Conv2D)    (None, 32, 32, 1024) 263168      conv4_block3_2_relu[0][0]        \n",
      "__________________________________________________________________________________________________\n",
      "conv4_block3_3_bn (BatchNormali (None, 32, 32, 1024) 4096        conv4_block3_3_conv[0][0]        \n",
      "__________________________________________________________________________________________________\n",
      "conv4_block3_add (Add)          (None, 32, 32, 1024) 0           conv4_block2_out[0][0]           \n",
      "                                                                 conv4_block3_3_bn[0][0]          \n",
      "__________________________________________________________________________________________________\n",
      "conv4_block3_out (Activation)   (None, 32, 32, 1024) 0           conv4_block3_add[0][0]           \n",
      "__________________________________________________________________________________________________\n",
      "conv4_block4_1_conv (Conv2D)    (None, 32, 32, 256)  262400      conv4_block3_out[0][0]           \n",
      "__________________________________________________________________________________________________\n",
      "conv4_block4_1_bn (BatchNormali (None, 32, 32, 256)  1024        conv4_block4_1_conv[0][0]        \n",
      "__________________________________________________________________________________________________\n",
      "conv4_block4_1_relu (Activation (None, 32, 32, 256)  0           conv4_block4_1_bn[0][0]          \n",
      "__________________________________________________________________________________________________\n",
      "conv4_block4_2_conv (Conv2D)    (None, 32, 32, 256)  590080      conv4_block4_1_relu[0][0]        \n",
      "__________________________________________________________________________________________________\n",
      "conv4_block4_2_bn (BatchNormali (None, 32, 32, 256)  1024        conv4_block4_2_conv[0][0]        \n",
      "__________________________________________________________________________________________________\n",
      "conv4_block4_2_relu (Activation (None, 32, 32, 256)  0           conv4_block4_2_bn[0][0]          \n",
      "__________________________________________________________________________________________________\n",
      "conv4_block4_3_conv (Conv2D)    (None, 32, 32, 1024) 263168      conv4_block4_2_relu[0][0]        \n",
      "__________________________________________________________________________________________________\n",
      "conv4_block4_3_bn (BatchNormali (None, 32, 32, 1024) 4096        conv4_block4_3_conv[0][0]        \n",
      "__________________________________________________________________________________________________\n",
      "conv4_block4_add (Add)          (None, 32, 32, 1024) 0           conv4_block3_out[0][0]           \n",
      "                                                                 conv4_block4_3_bn[0][0]          \n",
      "__________________________________________________________________________________________________\n",
      "conv4_block4_out (Activation)   (None, 32, 32, 1024) 0           conv4_block4_add[0][0]           \n",
      "__________________________________________________________________________________________________\n",
      "conv4_block5_1_conv (Conv2D)    (None, 32, 32, 256)  262400      conv4_block4_out[0][0]           \n",
      "__________________________________________________________________________________________________\n",
      "conv4_block5_1_bn (BatchNormali (None, 32, 32, 256)  1024        conv4_block5_1_conv[0][0]        \n",
      "__________________________________________________________________________________________________\n",
      "conv4_block5_1_relu (Activation (None, 32, 32, 256)  0           conv4_block5_1_bn[0][0]          \n",
      "__________________________________________________________________________________________________\n",
      "conv4_block5_2_conv (Conv2D)    (None, 32, 32, 256)  590080      conv4_block5_1_relu[0][0]        \n",
      "__________________________________________________________________________________________________\n",
      "conv4_block5_2_bn (BatchNormali (None, 32, 32, 256)  1024        conv4_block5_2_conv[0][0]        \n",
      "__________________________________________________________________________________________________\n",
      "conv4_block5_2_relu (Activation (None, 32, 32, 256)  0           conv4_block5_2_bn[0][0]          \n",
      "__________________________________________________________________________________________________\n",
      "conv4_block5_3_conv (Conv2D)    (None, 32, 32, 1024) 263168      conv4_block5_2_relu[0][0]        \n",
      "__________________________________________________________________________________________________\n",
      "conv4_block5_3_bn (BatchNormali (None, 32, 32, 1024) 4096        conv4_block5_3_conv[0][0]        \n",
      "__________________________________________________________________________________________________\n",
      "conv4_block5_add (Add)          (None, 32, 32, 1024) 0           conv4_block4_out[0][0]           \n",
      "                                                                 conv4_block5_3_bn[0][0]          \n",
      "__________________________________________________________________________________________________\n",
      "conv4_block5_out (Activation)   (None, 32, 32, 1024) 0           conv4_block5_add[0][0]           \n",
      "__________________________________________________________________________________________________\n",
      "conv4_block6_1_conv (Conv2D)    (None, 32, 32, 256)  262400      conv4_block5_out[0][0]           \n",
      "__________________________________________________________________________________________________\n",
      "conv4_block6_1_bn (BatchNormali (None, 32, 32, 256)  1024        conv4_block6_1_conv[0][0]        \n",
      "__________________________________________________________________________________________________\n",
      "conv4_block6_1_relu (Activation (None, 32, 32, 256)  0           conv4_block6_1_bn[0][0]          \n",
      "__________________________________________________________________________________________________\n",
      "conv4_block6_2_conv (Conv2D)    (None, 32, 32, 256)  590080      conv4_block6_1_relu[0][0]        \n",
      "__________________________________________________________________________________________________\n",
      "conv4_block6_2_bn (BatchNormali (None, 32, 32, 256)  1024        conv4_block6_2_conv[0][0]        \n",
      "__________________________________________________________________________________________________\n",
      "conv4_block6_2_relu (Activation (None, 32, 32, 256)  0           conv4_block6_2_bn[0][0]          \n",
      "__________________________________________________________________________________________________\n",
      "conv4_block6_3_conv (Conv2D)    (None, 32, 32, 1024) 263168      conv4_block6_2_relu[0][0]        \n",
      "__________________________________________________________________________________________________\n",
      "conv4_block6_3_bn (BatchNormali (None, 32, 32, 1024) 4096        conv4_block6_3_conv[0][0]        \n",
      "__________________________________________________________________________________________________\n",
      "conv4_block6_add (Add)          (None, 32, 32, 1024) 0           conv4_block5_out[0][0]           \n",
      "                                                                 conv4_block6_3_bn[0][0]          \n",
      "__________________________________________________________________________________________________\n",
      "conv4_block6_out (Activation)   (None, 32, 32, 1024) 0           conv4_block6_add[0][0]           \n",
      "__________________________________________________________________________________________________\n",
      "conv5_block1_1_conv (Conv2D)    (None, 16, 16, 512)  524800      conv4_block6_out[0][0]           \n",
      "__________________________________________________________________________________________________\n",
      "conv5_block1_1_bn (BatchNormali (None, 16, 16, 512)  2048        conv5_block1_1_conv[0][0]        \n",
      "__________________________________________________________________________________________________\n",
      "conv5_block1_1_relu (Activation (None, 16, 16, 512)  0           conv5_block1_1_bn[0][0]          \n",
      "__________________________________________________________________________________________________\n",
      "conv5_block1_2_conv (Conv2D)    (None, 16, 16, 512)  2359808     conv5_block1_1_relu[0][0]        \n",
      "__________________________________________________________________________________________________\n",
      "conv5_block1_2_bn (BatchNormali (None, 16, 16, 512)  2048        conv5_block1_2_conv[0][0]        \n",
      "__________________________________________________________________________________________________\n",
      "conv5_block1_2_relu (Activation (None, 16, 16, 512)  0           conv5_block1_2_bn[0][0]          \n",
      "__________________________________________________________________________________________________\n",
      "conv5_block1_0_conv (Conv2D)    (None, 16, 16, 2048) 2099200     conv4_block6_out[0][0]           \n",
      "__________________________________________________________________________________________________\n",
      "conv5_block1_3_conv (Conv2D)    (None, 16, 16, 2048) 1050624     conv5_block1_2_relu[0][0]        \n",
      "__________________________________________________________________________________________________\n",
      "conv5_block1_0_bn (BatchNormali (None, 16, 16, 2048) 8192        conv5_block1_0_conv[0][0]        \n",
      "__________________________________________________________________________________________________\n",
      "conv5_block1_3_bn (BatchNormali (None, 16, 16, 2048) 8192        conv5_block1_3_conv[0][0]        \n",
      "__________________________________________________________________________________________________\n",
      "conv5_block1_add (Add)          (None, 16, 16, 2048) 0           conv5_block1_0_bn[0][0]          \n",
      "                                                                 conv5_block1_3_bn[0][0]          \n",
      "__________________________________________________________________________________________________\n",
      "conv5_block1_out (Activation)   (None, 16, 16, 2048) 0           conv5_block1_add[0][0]           \n",
      "__________________________________________________________________________________________________\n",
      "conv5_block2_1_conv (Conv2D)    (None, 16, 16, 512)  1049088     conv5_block1_out[0][0]           \n",
      "__________________________________________________________________________________________________\n",
      "conv5_block2_1_bn (BatchNormali (None, 16, 16, 512)  2048        conv5_block2_1_conv[0][0]        \n",
      "__________________________________________________________________________________________________\n",
      "conv5_block2_1_relu (Activation (None, 16, 16, 512)  0           conv5_block2_1_bn[0][0]          \n",
      "__________________________________________________________________________________________________\n",
      "conv5_block2_2_conv (Conv2D)    (None, 16, 16, 512)  2359808     conv5_block2_1_relu[0][0]        \n",
      "__________________________________________________________________________________________________\n",
      "conv5_block2_2_bn (BatchNormali (None, 16, 16, 512)  2048        conv5_block2_2_conv[0][0]        \n",
      "__________________________________________________________________________________________________\n",
      "conv5_block2_2_relu (Activation (None, 16, 16, 512)  0           conv5_block2_2_bn[0][0]          \n",
      "__________________________________________________________________________________________________\n",
      "conv5_block2_3_conv (Conv2D)    (None, 16, 16, 2048) 1050624     conv5_block2_2_relu[0][0]        \n",
      "__________________________________________________________________________________________________\n",
      "conv5_block2_3_bn (BatchNormali (None, 16, 16, 2048) 8192        conv5_block2_3_conv[0][0]        \n",
      "__________________________________________________________________________________________________\n",
      "conv5_block2_add (Add)          (None, 16, 16, 2048) 0           conv5_block1_out[0][0]           \n",
      "                                                                 conv5_block2_3_bn[0][0]          \n",
      "__________________________________________________________________________________________________\n",
      "conv5_block2_out (Activation)   (None, 16, 16, 2048) 0           conv5_block2_add[0][0]           \n",
      "__________________________________________________________________________________________________\n",
      "conv5_block3_1_conv (Conv2D)    (None, 16, 16, 512)  1049088     conv5_block2_out[0][0]           \n",
      "__________________________________________________________________________________________________\n",
      "conv5_block3_1_bn (BatchNormali (None, 16, 16, 512)  2048        conv5_block3_1_conv[0][0]        \n",
      "__________________________________________________________________________________________________\n",
      "conv5_block3_1_relu (Activation (None, 16, 16, 512)  0           conv5_block3_1_bn[0][0]          \n",
      "__________________________________________________________________________________________________\n",
      "conv5_block3_2_conv (Conv2D)    (None, 16, 16, 512)  2359808     conv5_block3_1_relu[0][0]        \n",
      "__________________________________________________________________________________________________\n",
      "conv5_block3_2_bn (BatchNormali (None, 16, 16, 512)  2048        conv5_block3_2_conv[0][0]        \n",
      "__________________________________________________________________________________________________\n",
      "conv5_block3_2_relu (Activation (None, 16, 16, 512)  0           conv5_block3_2_bn[0][0]          \n",
      "__________________________________________________________________________________________________\n",
      "conv5_block3_3_conv (Conv2D)    (None, 16, 16, 2048) 1050624     conv5_block3_2_relu[0][0]        \n",
      "__________________________________________________________________________________________________\n",
      "conv5_block3_3_bn (BatchNormali (None, 16, 16, 2048) 8192        conv5_block3_3_conv[0][0]        \n",
      "__________________________________________________________________________________________________\n",
      "conv5_block3_add (Add)          (None, 16, 16, 2048) 0           conv5_block2_out[0][0]           \n",
      "                                                                 conv5_block3_3_bn[0][0]          \n",
      "__________________________________________________________________________________________________\n",
      "conv5_block3_out (Activation)   (None, 16, 16, 2048) 0           conv5_block3_add[0][0]           \n",
      "==================================================================================================\n",
      "Total params: 23,587,712\n",
      "Trainable params: 14,976,000\n",
      "Non-trainable params: 8,611,712\n",
      "__________________________________________________________________________________________________\n"
     ]
    }
   ],
   "source": [
    "in_shape = Input(shape = (512,512,3))\n",
    "# load model\n",
    "\n",
    "res_model = ResNet50(include_top=False,\n",
    "                 input_tensor=in_shape,\n",
    "                 weights = \"imagenet\")\n",
    "\n",
    "for layer in res_model.layers[:143]:\n",
    "  layer.trainable = False\n",
    "# summarize the model\n",
    "res_model.summary()"
   ]
  },
  {
   "cell_type": "code",
   "execution_count": 5,
   "metadata": {
    "colab": {
     "base_uri": "https://localhost:8080/"
    },
    "id": "IOh--GC95DOz",
    "outputId": "f612fc15-1452-4d45-f255-545793e48cbd"
   },
   "outputs": [
    {
     "name": "stdout",
     "output_type": "stream",
     "text": [
      "Epoch 1/5\n",
      "64/64 [==============================] - 1498s 23s/step - loss: 4.6537 - accuracy: 0.7733 - val_loss: 85445.6172 - val_accuracy: 0.5958\n",
      "Epoch 2/5\n",
      "64/64 [==============================] - 1501s 23s/step - loss: 2.4372 - accuracy: 0.8428 - val_loss: 26365.4062 - val_accuracy: 0.5740\n",
      "Epoch 3/5\n",
      "64/64 [==============================] - 1501s 23s/step - loss: 0.9640 - accuracy: 0.8918 - val_loss: 746.3751 - val_accuracy: 0.7498\n",
      "Epoch 4/5\n",
      "64/64 [==============================] - 1501s 23s/step - loss: 1.1327 - accuracy: 0.9109 - val_loss: 16.7748 - val_accuracy: 0.8401\n",
      "Epoch 5/5\n",
      "64/64 [==============================] - 1500s 23s/step - loss: 0.7152 - accuracy: 0.9236 - val_loss: 1.1077 - val_accuracy: 0.8580\n"
     ]
    }
   ],
   "source": [
    "from keras import models, layers\n",
    "renet50_model = models.Sequential()\n",
    "renet50_model.add(res_model)\n",
    "renet50_model.add(layers.Flatten())\n",
    "renet50_model.add(layers.Dense(3, activation='softmax'))\n",
    "renet50_model.compile(loss=\"categorical_crossentropy\",optimizer=\"adam\",metrics=[\"accuracy\"])\n",
    "history_renet50 = renet50_model.fit(rgb_train, trainy, batch_size=32,epochs = 5,validation_data=(rgb_test,testy))"
   ]
  },
  {
   "cell_type": "code",
   "execution_count": 8,
   "metadata": {
    "colab": {
     "base_uri": "https://localhost:8080/"
    },
    "id": "hwN1JnIy-bm6",
    "outputId": "6048fe55-be23-4010-e2aa-3007ceddb4a8"
   },
   "outputs": [
    {
     "name": "stdout",
     "output_type": "stream",
     "text": [
      "Epoch 1/5\n",
      "64/64 [==============================] - 1500s 23s/step - loss: 3.7656 - accuracy: 0.9182 - val_loss: 8.2532 - val_accuracy: 0.7547\n",
      "Epoch 2/5\n",
      "64/64 [==============================] - 1495s 23s/step - loss: 4.6307 - accuracy: 0.9197 - val_loss: 29.3252 - val_accuracy: 0.8093\n",
      "Epoch 3/5\n",
      "64/64 [==============================] - 1510s 24s/step - loss: 0.4828 - accuracy: 0.9447 - val_loss: 85.2816 - val_accuracy: 0.8560\n",
      "Epoch 4/5\n",
      "64/64 [==============================] - 1496s 23s/step - loss: 2.5151 - accuracy: 0.9549 - val_loss: 4.6789 - val_accuracy: 0.8352\n",
      "Epoch 5/5\n",
      "64/64 [==============================] - 1507s 24s/step - loss: 1.6482 - accuracy: 0.9476 - val_loss: 17.9881 - val_accuracy: 0.8689\n"
     ]
    }
   ],
   "source": [
    "renet50_model.compile(loss=\"categorical_crossentropy\",optimizer=\"adam\",metrics=[\"accuracy\"])\n",
    "history_renet50 = renet50_model.fit(rgb_train, trainy, batch_size=32,epochs = 5,validation_data=(rgb_test,testy))"
   ]
  },
  {
   "cell_type": "code",
   "execution_count": 10,
   "metadata": {
    "colab": {
     "base_uri": "https://localhost:8080/",
     "height": 332
    },
    "id": "qPSSBL4SIxQf",
    "outputId": "3fb22fb0-f320-44e0-fb62-4fc45ff208f6"
   },
   "outputs": [
    {
     "data": {
      "text/plain": [
       "<matplotlib.legend.Legend at 0x7f479fc8bd30>"
      ]
     },
     "execution_count": 10,
     "metadata": {
      "tags": []
     },
     "output_type": "execute_result"
    },
    {
     "data": {
      "image/png": "[encoded data removed]",
      "text/plain": [
       "<Figure size 432x288 with 1 Axes>"
      ]
     },
     "metadata": {
      "needs_background": "light",
      "tags": []
     },
     "output_type": "display_data"
    }
   ],
   "source": [
    "plt.plot(history_renet50.history['accuracy'])\n",
    "plt.plot(history_renet50.history['val_accuracy'])\n",
    "plt.title('Training and validtation Accuracy for ResNet50')\n",
    "plt.ylabel('Accuracy')\n",
    "plt.xlabel('Epoch')\n",
    "plt.legend(['Training', 'Validation'])"
   ]
  },
  {
   "cell_type": "code",
   "execution_count": 11,
   "metadata": {
    "colab": {
     "base_uri": "https://localhost:8080/",
     "height": 332
    },
    "id": "ODjyMDE8IxGt",
    "outputId": "cc1908b1-57f6-4f48-82e6-2c006aef34d2"
   },
   "outputs": [
    {
     "data": {
      "text/plain": [
       "<matplotlib.legend.Legend at 0x7f479fbf9e48>"
      ]
     },
     "execution_count": 11,
     "metadata": {
      "tags": []
     },
     "output_type": "execute_result"
    },
    {
     "data": {
      "image/png": "[encoded data removed]",
      "text/plain": [
       "<Figure size 432x288 with 1 Axes>"
      ]
     },
     "metadata": {
      "needs_background": "light",
      "tags": []
     },
     "output_type": "display_data"
    }
   ],
   "source": [
    "plt.plot(history_renet50.history['loss'])\n",
    "plt.plot(history_renet50.history['val_loss'])\n",
    "plt.title('Training and validtation Loss for ResNet50')\n",
    "plt.ylabel('Loss')\n",
    "plt.xlabel('Epoch')\n",
    "plt.legend(['Training', 'Validation'])"
   ]
  },
  {
   "cell_type": "markdown",
   "metadata": {
    "id": "QZdqR2lYlSkQ"
   },
   "source": [
    "We can see that the ResNet model overfits training data but fails to perform on validation set.\n",
    "\n",
    "### Final Thoughts\n",
    "- From the results we can see that the model which we define performs better than other approaches that we implement. Other models are more complex as compared to Model1. \n",
    "- The model that uses augmented data fails as the classifier also depends on the orientation of the images and changing the images won’t help get better performance of the model. \n",
    "- The approach of transfer learning using ResNet 50 architecture surely gave better results. We freezed most of the layers to keep the trainable parameters less, but still it takes longer to run. And being a more complex and deeper model, it tends to overfit the data. We hope this would be different  if we let all the layers train, but we didn’t have the resources to do so at the present time. In future, we plan to train the whole ResNet model allowing all the layers to update their values.\n"
   ]
  }
 ],
 "metadata": {
  "colab": {
   "collapsed_sections": [],
   "machine_shape": "hm",
   "name": "BT_DataModeling1.1",
   "provenance": []
  },
  "kernelspec": {
   "display_name": "Python 3",
   "language": "python",
   "name": "python3"
  }
 },
 "nbformat": 4,
 "nbformat_minor": 1
}
